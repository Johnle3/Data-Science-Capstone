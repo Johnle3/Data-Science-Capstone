{
 "cells": [
  {
   "cell_type": "code",
   "execution_count": null,
   "metadata": {},
   "outputs": [
    {
     "name": "stdout",
     "output_type": "stream",
     "text": [
      "API Response Data:\n",
      "[['NAME', 'B01003_001E', 'state'], ['California', '39346023', '06']]\n"
     ]
    }
   ],
   "source": [
    "\"\"\"\n",
    "Before running this script, install the required packages using:\n",
    "    pip install -r requirements.txt\n",
    "\"\"\"\n",
    "import os\n",
    "from dotenv import load_dotenv\n",
    "import requests\n",
    "\n",
    "# Load environment variables from the .env file\n",
    "load_dotenv()\n",
    "\n",
    "# Retrieve the Census API key from the environment\n",
    "API_KEY = os.getenv(\"CENSUS_API_KEY\")\n",
    "if not API_KEY:\n",
    "    raise ValueError(\"CENSUS_API_KEY is not set in the .env file.\")\n",
    "\n",
    "# Define the base URL for the Census API (this example uses the 2020 ACS 5-year data)\n",
    "base_url = \"https://api.census.gov/data/2020/acs/acs5\"\n",
    "\n",
    "# Prepare parameters for a sample API request\n",
    "params = {\n",
    "    \"get\": \"NAME,B01003_001E\",  # Example: request the location name and total population estimate\n",
    "    \"for\": \"state:06\",          # Example: data for the state of California (state code: 06)\n",
    "    \"key\": API_KEY              # Your API key\n",
    "}\n",
    "\n",
    "# Make the API request\n",
    "response = requests.get(base_url, params=params)\n",
    "\n",
    "# Check the response status and print the data if successful\n",
    "if response.status_code == 200:\n",
    "    data = response.json()\n",
    "    print(\"API Response Data:\")\n",
    "    print(data)\n",
    "else:\n",
    "    print(f\"Error: Received status code {response.status_code} from the API.\")\n"
   ]
  }
 ],
 "metadata": {
  "kernelspec": {
   "display_name": "base",
   "language": "python",
   "name": "python3"
  },
  "language_info": {
   "codemirror_mode": {
    "name": "ipython",
    "version": 3
   },
   "file_extension": ".py",
   "mimetype": "text/x-python",
   "name": "python",
   "nbconvert_exporter": "python",
   "pygments_lexer": "ipython3",
   "version": "3.8.8"
  }
 },
 "nbformat": 4,
 "nbformat_minor": 2
}
