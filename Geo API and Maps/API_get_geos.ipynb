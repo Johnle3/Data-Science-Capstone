{
 "cells": [
  {
   "cell_type": "code",
   "execution_count": 1,
   "id": "371493e6",
   "metadata": {},
   "outputs": [],
   "source": [
    "import requests"
   ]
  },
  {
   "cell_type": "code",
   "execution_count": 84,
   "id": "6075b779",
   "metadata": {},
   "outputs": [],
   "source": [
    "#list of layers for reference: https://tigerweb.geo.census.gov/arcgis/rest/services/TIGERweb/tigerWMS_Current/MapServer\n",
    "#API documenation: https://geocoding.geo.census.gov/geocoder/Geocoding_Services_API.pdf\n",
    "\n",
    "def adress_geo_finder(address,city,state,zip_code):\n",
    "    address_concat = address +\",\"+city+\",\"+state+\",\"+zip_code\n",
    "    base_url = 'https://geocoding.geo.census.gov/geocoder'\n",
    "    return_type = '/geographies'\n",
    "    search_type = '/onelineaddress'\n",
    "    url = base_url + return_type + search_type\n",
    "    params = {\n",
    "        'address': address_concat,\n",
    "        'benchmark': 'Public_AR_Current',\n",
    "        'format': 'json',\n",
    "        'vintage':'Current_Current',\n",
    "        'layers':'all'\n",
    "    }\n",
    "\n",
    "    response = requests.get(url,params=params)\n",
    "\n",
    "    result = response.json()['result']['addressMatches'][0]['geographies']\n",
    "    \n",
    "    \n",
    "    new_dict ={}\n",
    "    \n",
    "    \n",
    "    for i in result:\n",
    "        if i == 'States':\n",
    "            new_dict['state_id'] = result[i][0]['GEOID']\n",
    "            new_dict['state_name'] = result[i][0]['NAME']\n",
    "        elif i == 'Census Regions':\n",
    "            new_dict['region_id'] = result[i][0]['GEOID']\n",
    "            new_dict['region_name'] = result[i][0]['NAME']\n",
    "        elif i == 'Census Divisions':\n",
    "            new_dict['division_id'] = result[i][0]['GEOID']\n",
    "            new_dict['division_name'] = result[i][0]['NAME']\n",
    "        elif i == 'Counties':\n",
    "            new_dict['county_id'] = result[i][0]['GEOID']\n",
    "            new_dict['county_name'] = result[i][0]['NAME']\n",
    "        elif i == 'Census Tracts':\n",
    "            new_dict['tract_id'] = result[i][0]['GEOID']\n",
    "            new_dict['tract_name'] = result[i][0]['NAME']\n",
    "        elif i == 'Census Block Groups':\n",
    "            new_dict['block_group_id'] = result[i][0]['GEOID']\n",
    "            new_dict['block_group_name'] = result[i][0]['NAME']\n",
    "        elif i in ('Hawaiian Home Lands',\n",
    "                   'Oklahoma Tribal Statistical Areas',\n",
    "                   'Alaska Native Village Statistical Areas',\n",
    "                   'Tribal Designated Statistical Areas',\n",
    "                   'State Designated Tribal Statistical Areas',\n",
    "                   'Federal American Indian Reservations'):\n",
    "            new_dict['ain_id'] = result[i][0]['GEOID']\n",
    "            new_dict['ain_name'] = result[i][0]['NAME']\n",
    "    \n",
    "    return new_dict\n",
    "\n"
   ]
  },
  {
   "cell_type": "code",
   "execution_count": 85,
   "id": "cfd7d36f",
   "metadata": {},
   "outputs": [
    {
     "name": "stdout",
     "output_type": "stream",
     "text": [
      "{'ain_id': '5580R', 'ain_name': 'Chickasaw OTSA', 'county_id': '40049', 'county_name': 'Garvin County', 'state_id': '40', 'state_name': 'Oklahoma', 'block_group_id': '400496813001', 'block_group_name': 'Block Group 1', 'division_id': '7', 'division_name': 'West South Central Division', 'region_id': '3', 'region_name': 'South Region', 'tract_id': '40049681300', 'tract_name': 'Census Tract 6813'}\n"
     ]
    }
   ],
   "source": [
    "print(adress_geo_finder('200 W Charles Ave','Pauls Valley','OK','73075'))\n"
   ]
  },
  {
   "cell_type": "code",
   "execution_count": null,
   "id": "7a4deb24",
   "metadata": {},
   "outputs": [],
   "source": []
  }
 ],
 "metadata": {
  "kernelspec": {
   "display_name": "Python 3 (ipykernel)",
   "language": "python",
   "name": "python3"
  },
  "language_info": {
   "codemirror_mode": {
    "name": "ipython",
    "version": 3
   },
   "file_extension": ".py",
   "mimetype": "text/x-python",
   "name": "python",
   "nbconvert_exporter": "python",
   "pygments_lexer": "ipython3",
   "version": "3.9.18"
  }
 },
 "nbformat": 4,
 "nbformat_minor": 5
}
