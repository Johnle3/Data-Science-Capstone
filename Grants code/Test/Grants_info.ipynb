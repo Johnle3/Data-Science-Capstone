{
 "cells": [
  {
   "cell_type": "code",
   "execution_count": 1,
   "id": "02e5a12c",
   "metadata": {},
   "outputs": [],
   "source": [
    "#Inserted a comment just to do a GitHub demo.\n",
    "#Inserted another comment to see how GitHub Desktop works.\n",
    "\n",
    "import pandas as pd\n",
    "df = pd.read_excel(\"Grants.xlsx\")\n",
    "\n",
    "other_df =df[df['CategoryOfFundingActivity.Element:Text']=='O'].copy()\n",
    "\n",
    "#print(other_df)"
   ]
  },
  {
   "cell_type": "code",
   "execution_count": 2,
   "id": "3fd8a49c",
   "metadata": {},
   "outputs": [],
   "source": [
    "import matplotlib.pyplot as plt\n",
    "\n",
    "agc = df['AgencyName'].value_counts()\n",
    "other_agc = other_df['AgencyName'].value_counts()\n",
    "\n",
    "agc.to_csv('agency_counts.csv')\n",
    "other_agc.to_csv('Other_agency_counts.csv')\n",
    "#plt.pie(ag,labels =ag.index)"
   ]
  },
  {
   "cell_type": "code",
   "execution_count": 3,
   "id": "109c4ca7",
   "metadata": {},
   "outputs": [],
   "source": [
    "def df_dict(df):\n",
    "    dict= {}\n",
    "    dict['CategoryOfFundingActivity.Element:Text']=', '.join\n",
    "    keys1 = list(df.keys())\n",
    "    keys1.remove(\"CategoryOfFundingActivity.Element:Text\")\n",
    "    for key in keys1:\n",
    "        dict[key] = 'first'\n",
    "    return dict"
   ]
  },
  {
   "cell_type": "code",
   "execution_count": 4,
   "id": "bfb361a6",
   "metadata": {},
   "outputs": [],
   "source": [
    "code_dict = df_dict(df)\n",
    "\n",
    "new_df = df.groupby('OpportunityID').agg(code_dict).reset_index(drop=True)\n",
    "\n",
    "other = new_df['CategoryOfFundingActivity.Element:Text'].value_counts()\n",
    "other.to_csv('Other_code_counts.csv')\n"
   ]
  },
  {
   "cell_type": "code",
   "execution_count": 6,
   "id": "8272e93b",
   "metadata": {},
   "outputs": [],
   "source": [
    "other_cat = other_df['CategoryExplanation'].value_counts()\n",
    "other_cat.to_csv('Other_CategoryExplanation_counts.csv')\n"
   ]
  },
  {
   "cell_type": "code",
   "execution_count": 18,
   "id": "7b0823ab",
   "metadata": {},
   "outputs": [],
   "source": [
    "def df_dict_sum(df,column):\n",
    "    dict= {}\n",
    "    dict[column]='sum'\n",
    "    keys1 = list(df.keys())\n",
    "    keys1.remove(column)\n",
    "    for key in keys1:\n",
    "        dict[key] = 'first'\n",
    "    return dict"
   ]
  },
  {
   "cell_type": "code",
   "execution_count": 10,
   "id": "93633b63",
   "metadata": {},
   "outputs": [],
   "source": [
    "funding_df_dict = df_dict_sum(df,'EstimatedTotalProgramFunding')\n",
    "\n",
    "funding_df = df.groupby('CategoryOfFundingActivity.Element:Text').agg(funding_df_dict).reset_index(drop=True)\n",
    "\n",
    "funding_df = funding_df[['EstimatedTotalProgramFunding','CategoryOfFundingActivity.Element:Text']].copy()\n",
    "\n",
    "funding_df.to_csv('Total_fund_by_category.csv')"
   ]
  },
  {
   "cell_type": "code",
   "execution_count": 12,
   "id": "0946355a",
   "metadata": {},
   "outputs": [],
   "source": [
    "funding_df_dict_2 = df_dict_sum(df,'EstimatedTotalProgramFunding')\n",
    "\n",
    "funding_df_2 = df.groupby('AgencyName').agg(funding_df_dict_2).reset_index(drop=True)\n",
    "\n",
    "funding_df_2 = funding_df_2[['EstimatedTotalProgramFunding','AgencyName']].copy()\n",
    "\n",
    "funding_df_2.to_csv('Total_fund_by_agency.csv')"
   ]
  },
  {
   "cell_type": "code",
   "execution_count": 19,
   "id": "21e9fa8c",
   "metadata": {},
   "outputs": [],
   "source": [
    "values = {\"ExpectedNumberOfAwards\": 1}\n",
    "df_2 = df.fillna(value = values)\n",
    "\n",
    "awards_df_dict = df_dict_sum(df_2,'ExpectedNumberOfAwards')\n",
    "\n",
    "awards_df = df_2.groupby('CategoryOfFundingActivity.Element:Text').agg(awards_df_dict).reset_index(drop=True)\n",
    "awards_df = awards_df[['ExpectedNumberOfAwards','CategoryOfFundingActivity.Element:Text']].copy()\n",
    "\n",
    "awards_df.to_csv('number_of_awards.csv')\n",
    "\n",
    "\n"
   ]
  },
  {
   "cell_type": "code",
   "execution_count": 20,
   "id": "5a115631",
   "metadata": {},
   "outputs": [],
   "source": [
    "values = {\"ExpectedNumberOfAwards\": 1}\n",
    "df_3 = df.fillna(value = values)\n",
    "\n",
    "awards_df_dict = df_dict_sum(df_3,'ExpectedNumberOfAwards')\n",
    "\n",
    "awards_df = df_3.groupby('AgencyName').agg(awards_df_dict).reset_index(drop=True)\n",
    "awards_df = awards_df[['ExpectedNumberOfAwards','AgencyName']].copy()\n",
    "\n",
    "awards_df.to_csv('number_ofagency_awards.csv')"
   ]
  },
  {
   "cell_type": "code",
   "execution_count": null,
   "id": "1cf19b25",
   "metadata": {},
   "outputs": [],
   "source": []
  }
 ],
 "metadata": {
  "kernelspec": {
   "display_name": "Python 3 (ipykernel)",
   "language": "python",
   "name": "python3"
  },
  "language_info": {
   "codemirror_mode": {
    "name": "ipython",
    "version": 3
   },
   "file_extension": ".py",
   "mimetype": "text/x-python",
   "name": "python",
   "nbconvert_exporter": "python",
   "pygments_lexer": "ipython3",
   "version": "3.9.18"
  }
 },
 "nbformat": 4,
 "nbformat_minor": 5
}
