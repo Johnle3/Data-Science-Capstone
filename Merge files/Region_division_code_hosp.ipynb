{
 "cells": [
  {
   "cell_type": "code",
   "execution_count": 57,
   "id": "78a221c1",
   "metadata": {
    "scrolled": true
   },
   "outputs": [],
   "source": [
    "# lists of each region/division and the FIPS codes assigned to them\n",
    "\n",
    "Northeast =['09','23','25','33','44','50','34','36','42']\n",
    "South = ['10','11','12','13','14','24','37','45','51','54','01','21','28','47','05','22','40','48']\n",
    "West =['04','08','08','16','35','30','49','32','56','02','06','15','41','53']\n",
    "Midwest=['18','17','26','39','55','19','20','27','29','31','38','46']\n",
    "\n",
    "New_England=['09','23','25','33','44','50']\n",
    "Middle_Atlantic:['34','36','42']\n",
    "East_North_Central:['18','17','26','39','55']\n",
    "West_North_Central:['19','20','27','29','31','38','46']\n",
    "South_Atlantic=['10','11','12','13','14','24','37','45','51','54']\n",
    "East_South_Central=['01','21','28','47']\n",
    "West_South_Central=['05','22','40','48']\n",
    "Mountain=['04','08','08','16','35','30','49','32','56']\n",
    "Pacific=['02','06','15','41','53']\n",
    "\n",
    "#Functions to return regions/divisions category. \n",
    "#Could change these to IDs or etc, would want want to update the string value being returned\n",
    "\n",
    "def get_region(FIPS):\n",
    "    if FIPS in Northeast:\n",
    "        return 'Northeast'\n",
    "    elif FIPS in South:\n",
    "        return 'South'\n",
    "    elif FIPS in West:\n",
    "        return 'West'\n",
    "    elif FIPS in Midwest:\n",
    "        return 'Midwest'\n",
    "\n",
    "def get_division(FIPS):\n",
    "    if FIPS in New_England:\n",
    "        return 'New_England'\n",
    "    elif FIPS in Middle_Atlantic:\n",
    "        return 'Middle Atlantic'\n",
    "    elif FIPS in East_North_Central:\n",
    "        return 'East North Central'\n",
    "    elif FIPS in West_North_Central:\n",
    "        return 'West North Central'\n",
    "    elif FIPS in South_Atlantic:\n",
    "        return 'South Atlantic'\n",
    "    elif FIPS in East_South_Central:\n",
    "        return 'East South Central'\n",
    "    elif FIPS in West_South_Central:\n",
    "        return 'West South Central'\n",
    "    elif FIPS in Mountain:\n",
    "        return 'Mountain'\n",
    "    elif FIPS in Pacific:\n",
    "        return 'Pacific'\n"
   ]
  },
  {
   "cell_type": "code",
   "execution_count": 77,
   "id": "9a29c4d9",
   "metadata": {},
   "outputs": [
    {
     "name": "stdout",
     "output_type": "stream",
     "text": [
      "       region  year  Number_of_hospitals\n",
      "0     Midwest  2015                 1838\n",
      "1     Midwest  2016                 1840\n",
      "2     Midwest  2017                 1863\n",
      "3     Midwest  2018                 1851\n",
      "4     Midwest  2019                 1863\n",
      "5     Midwest  2020                 1885\n",
      "6     Midwest  2021                 1934\n",
      "7     Midwest  2022                    0\n",
      "8   Northeast  2015                 1045\n",
      "9   Northeast  2016                 1085\n",
      "10  Northeast  2017                 1072\n",
      "11  Northeast  2018                  995\n",
      "12  Northeast  2019                 1019\n",
      "13  Northeast  2020                 1068\n",
      "14  Northeast  2021                 1151\n",
      "15  Northeast  2022                    0\n",
      "16      South  2015                 2786\n",
      "17      South  2016                 2812\n",
      "18      South  2017                 2799\n",
      "19      South  2018                 2732\n",
      "20      South  2019                 2714\n",
      "21      South  2020                 2769\n",
      "22      South  2021                 2895\n",
      "23      South  2022                    0\n",
      "24       West  2015                 1343\n",
      "25       West  2016                 1363\n",
      "26       West  2017                 1286\n",
      "27       West  2018                 1328\n",
      "28       West  2019                 1337\n",
      "29       West  2020                 1399\n",
      "30       West  2021                 1485\n",
      "31       West  2022                    0\n"
     ]
    },
    {
     "name": "stderr",
     "output_type": "stream",
     "text": [
      "/tmp/ipykernel_86541/1642860034.py:14: FutureWarning: The default value of numeric_only in DataFrameGroupBy.sum is deprecated. In a future version, numeric_only will default to False. Either specify numeric_only or select only columns which should be valid for the function.\n",
      "  region_hosp_sum_tables = states.groupby(['region','year'], as_index=False).sum()\n"
     ]
    }
   ],
   "source": [
    "import pandas as pd\n",
    "\n",
    "#pulls in csv to work with\n",
    "#I think it may be important that numbers of hospitals is set to int for this to work\n",
    "health = pd.read_csv(\"/data/discover/Data/Health and Nutrition/health_and_nutrition_measures.csv\",\n",
    "           dtype={'year':str,'state_fips': object,'county_fips':object,'tract_fips':object,'GEO_ID':str,\n",
    "                  \"Number_of_hospitals\":'Int64'})\n",
    "\n",
    "#look for 2 digit ids, ignore us as a whole\n",
    "states = health[(health['GEO_ID'].str.len() == 2)&(health['GEO_ID'] != 'us')].copy()\n",
    " \n",
    "#would use get_divsion function here instead of get region\n",
    "states['region'] = states['GEO_ID'].apply(get_region)\n",
    "\n",
    "region_hosp_sum_tables = states.groupby(['region','year'], as_index=False).sum()\n",
    "\n",
    "region_hosp_sum_tables = region_hosp_sum_tables[['region','year','Number_of_hospitals']]\n",
    "\n",
    "#Returns table with sum, will need to merge/figure out method to update overall table\n",
    "print(region_hosp_sum_tables)"
   ]
  },
  {
   "cell_type": "code",
   "execution_count": null,
   "id": "4e6ffd12",
   "metadata": {},
   "outputs": [],
   "source": []
  }
 ],
 "metadata": {
  "kernelspec": {
   "display_name": "Python 3 (ipykernel)",
   "language": "python",
   "name": "python3"
  },
  "language_info": {
   "codemirror_mode": {
    "name": "ipython",
    "version": 3
   },
   "file_extension": ".py",
   "mimetype": "text/x-python",
   "name": "python",
   "nbconvert_exporter": "python",
   "pygments_lexer": "ipython3",
   "version": "3.9.18"
  }
 },
 "nbformat": 4,
 "nbformat_minor": 5
}
