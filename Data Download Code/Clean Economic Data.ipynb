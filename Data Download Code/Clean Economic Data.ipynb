{
 "cells": [
  {
   "cell_type": "code",
   "execution_count": 1,
   "id": "e804e357",
   "metadata": {},
   "outputs": [],
   "source": [
    "import pandas as pd"
   ]
  },
  {
   "cell_type": "code",
   "execution_count": 49,
   "id": "11074eb0",
   "metadata": {},
   "outputs": [],
   "source": [
    "#geo file\n",
    "geo = pd.read_csv(\"/data/discover/Data/General/general_measures.csv\", \n",
    "                     dtype={'year':str,'state_fips': object,'county_fips':object,\n",
    "                            'tract_fips':object,'GEO_ID':str,'area_type':str,'Geo_name':str}, low_memory=False)\n",
    "\n",
    "#keep geo variables\n",
    "geo=geo[['state_fips','GEO_ID','area_type','Geo_name']]\n",
    "\n",
    "#drop duplicates\n",
    "geo = geo.drop_duplicates()"
   ]
  },
  {
   "cell_type": "code",
   "execution_count": 52,
   "id": "1d47ea8a",
   "metadata": {},
   "outputs": [],
   "source": [
    "# Job creation\n",
    "\n",
    "#United States\n",
    "us_bgr = pd.read_csv(\"/data/explore/nwank002/Business_Indicators/Business_Growth_Rate/us_bgr.csv\", \n",
    "                     dtype={'year':str}, low_memory=False)\n",
    "\n",
    "us_bgr[\"area_type\"] = \"national\"\n",
    "us_bgr[\"GEO_ID\"] = \"us\"\n",
    "us_bgr[\"Geo_name\"] = \"United States\"\n",
    "\n",
    "#State\n",
    "state_bgr = pd.read_csv(\"/data/explore/nwank002/Business_Indicators/Business_Growth_Rate/state_bgr.csv\", \n",
    "                     dtype={'year':str}, low_memory=False)\n",
    "\n",
    "state_bgr.rename(columns = {\"name\":\"Geo_name\"}, inplace = True)\n",
    "\n",
    "#Merge to geo_file\n",
    "state_bgr_merge = pd.merge(state_bgr, geo, on=['Geo_name'],\n",
    "                     how='left')\n",
    "\n",
    "job_growth = pd.concat([us_bgr,state_bgr_merge], ignore_index=True)\n",
    "\n",
    "# Make all column names uppercase\n",
    "job_growth.columns=map(str.upper, job_growth.columns)\n"
   ]
  },
  {
   "cell_type": "code",
   "execution_count": 53,
   "id": "02e896af",
   "metadata": {},
   "outputs": [],
   "source": [
    "#Firm Growth\n",
    "\n",
    "#United States\n",
    "us_firm_growth = pd.read_csv(\"/data/explore/nwank002/Business_Indicators/Business_Growth_Rate/us_firm_growth.csv\", \n",
    "                     dtype={'year':str}, low_memory=False)\n",
    "\n",
    "us_firm_growth[\"area_type\"] = \"national\"\n",
    "us_firm_growth[\"GEO_ID\"] = \"us\"\n",
    "us_firm_growth[\"Geo_name\"] = \"United States\"\n",
    "\n",
    "#State\n",
    "state_firm_growth = pd.read_csv(\"/data/explore/nwank002/Business_Indicators/Business_Growth_Rate/state_firm_growth.csv\", \n",
    "                     dtype={'year':str}, low_memory=False)\n",
    "\n",
    "state_firm_growth.rename(columns = {\"name\":\"Geo_name\"}, inplace = True)\n",
    "\n",
    "#Merge to geo_file\n",
    "state_firm_growth_merge = pd.merge(state_firm_growth, geo, on=['Geo_name'],\n",
    "                     how='left')\n",
    "\n",
    "firm_growth = pd.concat([us_firm_growth,state_firm_growth_merge], ignore_index=True)\n",
    "\n",
    "# Make all column names uppercase\n",
    "firm_growth.columns=map(str.upper, firm_growth.columns)"
   ]
  },
  {
   "cell_type": "code",
   "execution_count": 54,
   "id": "c539dcdf",
   "metadata": {},
   "outputs": [],
   "source": [
    "#Job rate\n",
    "\n",
    "#United States\n",
    "us_job_rate = pd.read_csv(\"/data/explore/nwank002/Business_Indicators/Business_Growth_Rate/us_job_rate.csv\", \n",
    "                     dtype={'year':str}, low_memory=False)\n",
    "\n",
    "us_job_rate = us_job_rate[us_job_rate.name.str.contains(\"United States\")]\n",
    "\n",
    "us_job_rate[\"area_type\"] = \"national\"\n",
    "us_job_rate[\"GEO_ID\"] = \"us\"\n",
    "us_job_rate.rename(columns = {\"name\":\"Geo_name\"}, inplace = True)\n",
    "\n",
    "#State\n",
    "state_job_rate = pd.read_csv(\"/data/explore/nwank002/Business_Indicators/Business_Growth_Rate/state_job_rate.csv\", \n",
    "                     dtype={'year':str}, low_memory=False)\n",
    "\n",
    "state_job_rate.rename(columns = {\"name\":\"Geo_name\"}, inplace = True)\n",
    "\n",
    "#Merge to geo_file\n",
    "state_job_rate_merge = pd.merge(state_job_rate, geo, on=['Geo_name'],\n",
    "                     how='left')\n",
    "\n",
    "job_rate = pd.concat([us_job_rate,state_job_rate_merge], ignore_index=True)\n",
    "\n",
    "# Make all column names uppercase\n",
    "job_rate.columns=map(str.upper, job_rate.columns)"
   ]
  },
  {
   "cell_type": "code",
   "execution_count": 63,
   "id": "98696bb6",
   "metadata": {},
   "outputs": [],
   "source": [
    "#Imports and Exports\n",
    "\n",
    "#United States\n",
    "import_export = pd.read_excel(\"/data/explore/dataExtracts/data/international_balance_exports_imports.xlsx\", sheet_name='CIDR', \n",
    "                     dtype={'Year':str})\n",
    "\n",
    "import_export=import_export[['Year','Balance','Exports','Imports']]\n",
    "\n",
    "import_export[\"area_type\"] = \"national\"\n",
    "import_export[\"GEO_ID\"] = \"us\"\n",
    "import_export[\"Geo_name\"] = \"United States\"\n",
    "\n",
    "# Make all column names uppercase\n",
    "import_export.columns=map(str.upper, import_export.columns)"
   ]
  },
  {
   "cell_type": "code",
   "execution_count": 90,
   "id": "71a7608a",
   "metadata": {},
   "outputs": [],
   "source": [
    "#GDP\n",
    "GDP = pd.read_csv(\"/data/explore/nwank002/Business_Indicators/GDP/GrossDomesticProduct.csv\", \n",
    "                     low_memory=False)\n",
    "\n",
    "GDP=GDP[['GeoName','2015','2016','2017','2018','2019','2020','2021','2022']]\n",
    "\n",
    "GDP_melt = GDP.melt(id_vars=['GeoName'])\n",
    "GDP_melt.rename(columns = {\"GeoName\":\"Geo_name\", \"variable\":\"year\", \"value\":\"GDP\"}, inplace = True)\n",
    "\n",
    "#Merge to geo_file\n",
    "GDP_merge = pd.merge(GDP_melt, geo, on=['Geo_name'],\n",
    "                     how='left')\n",
    "\n",
    "# Make all column names uppercase\n",
    "GDP_merge.columns=map(str.upper, GDP_merge.columns)\n",
    "\n",
    "#Make GDP integer\n",
    "GDP_merge[\"GDP\"] = (GDP_merge[\"GDP\"].str.replace(\",\", \"\")).astype(int)"
   ]
  },
  {
   "cell_type": "code",
   "execution_count": 91,
   "id": "293b677e",
   "metadata": {},
   "outputs": [],
   "source": [
    "#Merge\n",
    "economic = pd.merge(job_growth, firm_growth, on=['GEO_ID','YEAR','AREA_TYPE','GEO_NAME','STATE_FIPS'],\n",
    "                     how='outer').merge(job_rate, on=['GEO_ID','YEAR','AREA_TYPE','GEO_NAME','STATE_FIPS'],\n",
    "                     how='outer').merge(import_export, on=['GEO_ID','YEAR','AREA_TYPE','GEO_NAME'],\n",
    "                     how='outer').merge(GDP_merge, on=['GEO_ID','YEAR','AREA_TYPE','GEO_NAME','STATE_FIPS'],\n",
    "                     how='outer')"
   ]
  },
  {
   "cell_type": "code",
   "execution_count": 92,
   "id": "8fb3c5e8",
   "metadata": {},
   "outputs": [],
   "source": [
    "#Save in folder\n",
    "economic.to_csv(\"/data/discover/Data/Final Data/Economic Vitality/economic.csv\", \n",
    "                         header=True, index=False)"
   ]
  },
  {
   "cell_type": "code",
   "execution_count": null,
   "id": "7b1428e9",
   "metadata": {},
   "outputs": [],
   "source": []
  }
 ],
 "metadata": {
  "kernelspec": {
   "display_name": "Python 3 (ipykernel)",
   "language": "python",
   "name": "python3"
  },
  "language_info": {
   "codemirror_mode": {
    "name": "ipython",
    "version": 3
   },
   "file_extension": ".py",
   "mimetype": "text/x-python",
   "name": "python",
   "nbconvert_exporter": "python",
   "pygments_lexer": "ipython3",
   "version": "3.9.18"
  }
 },
 "nbformat": 4,
 "nbformat_minor": 5
}
